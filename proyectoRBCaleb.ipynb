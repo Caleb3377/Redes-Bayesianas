{
 "cells": [
  {
   "attachments": {},
   "cell_type": "markdown",
   "metadata": {
    "slideshow": {
     "slide_type": "slide"
    }
   },
   "source": [
    "## **Proyecto Redes Bayesianas**"
   ]
  },
  {
   "attachments": {},
   "cell_type": "markdown",
   "metadata": {},
   "source": [
    "**Nombre de alumno:** Yerson Caleb Yarhui Sarate\n",
    "\n",
    "**NIA:** yarhui.147382\n",
    "\n",
    "**Fecha de entrega:** 07/05/2023\n",
    "\n",
    "**Asignatura:** Inteligencia Artificial\n",
    "\n",
    "**Curso:** 2º Ing. Informática\n",
    "\n",
    "**Centro:** UPNA\n"
   ]
  },
  {
   "attachments": {},
   "cell_type": "markdown",
   "metadata": {},
   "source": [
    " **TEMA:** <span style=\"font-size:19px\">Abandono laboral</span>"
   ]
  },
  {
   "attachments": {},
   "cell_type": "markdown",
   "metadata": {},
   "source": [
    "El abandono laboral, es un problema que se presenta cuando los empleados renuncian o dejan una empresa. Este fenómeno puede tener un impacto negativo en las empresas, ya que la salida constante de empleados puede aumentar los costos y disminuir la productividad.\n",
    "\n",
    "Existen varias razones por las cuales los empleados pueden abandonar una empresa, incluyendo insatisfacción laboral, la edad, las horas que trabajan, entre otras.\n",
    "\n",
    "La implementación de una red bayesiana puede ayudar a comprender mejor las causas y consecuencias del abandono laboral, identificar los factores clave que influyen en este fenómeno y, en última instancia, desarrollar estrategias efectivas para prevenirlo y retener a los empleados en la empresa."
   ]
  },
  {
   "attachments": {},
   "cell_type": "markdown",
   "metadata": {},
   "source": [
    "**El objetivo** de la red bayesiana que se puede construir en relación al problema del abandono laboral es modelar las relaciones causales entre las diferentes variables que influyen en este fenómeno. La red bayesiana puede utilizarse para predecir la probabilidad de que un empleado renuncie a su trabajo, dada cierta combinación de factores y circunstancias laborales. \n",
    "\n",
    "Además, la red bayesiana puede ser útil para identificar los factores clave que influyen en el abandono laboral y desarrollar estrategias para prevenirlo. Por ejemplo, si la red indica que la insatisfacción laboral y la edad son un factor importante en la decisión de los empleados de dejar la empresa, la organización puede implementar programas y estrategias para fomentar la retención del personal.\n",
    "\n",
    "En resumen, el objetivo principal de la red bayesiana es proporcionar una herramienta analítica útil para entender y prevenir el abandono laboral, lo que puede tener un impacto positivo en la productividad y el éxito de la organización."
   ]
  },
  {
   "attachments": {},
   "cell_type": "markdown",
   "metadata": {},
   "source": [
    "| Nombre de la variable | Descripción | Tipo de variable | Estados y valores |\n",
    "| --- | --- | --- | --- |\n",
    "| Education Level | Esta variable describe el tipo de educación que ha adquirido el empleado hasta ese momento | Observación y entrada | Es cualitativa, puede ser o Medio-Bajo(F.P.Medio, Bachillerato, E.S.O, primaria, ninguno) o Superior(Doctorando, Master, Universidad, F.P.Superior), lo expresaremos como 1:Superior, 0:Medio-Bajo |\n",
    "| Seniority | Describe la antigüedad que tiene un empleado trabajando para la empresa | Observación y entrada | Es cuantitativa, y siendo discretizada establecemos un rango de años tal que Seniority = {0 &le; x &le; 7 años} y {8 &le; y &le; 100 años} , puede ser o al menos 8 años o menos de 8 años trabajando para la empresa, lo expresaremos como 1:Seniority &ge; 8 años, 0:Seniority < 8 años |\n",
    "| Performance Evaluation | Describe como evaluan los supervisores su calidad/productividad en el trabajo | Observación y entrada | Es cualitativa, puede ser aceptable o no aceptable, lo denotaremos como 1: si los supervisores evaluaron de aceptable su trabajo, 0: si evaluaron de no aceptable el trabajo |\n",
    "| Payment Tier | Describe la monetización de el empleado en la empresa determinado por las anteriores variables | Factores promotores | Es cuantitativa, pero discretizando establecemos un rango PaymentTier = {SUELDO_MIN &le; x &le; 2000 €} y {2001 &le; y &le; SUELDO_MAX €}, lo denotaremos como 1: si recibe un sueldo superior o igual a 2001 €, 0: si recibe un sueldo menor o igual a 2000 € |\n",
    "| Distance To Work | Describe la distancia en km. que un empleado recorre para acudir a desempeñar su cargo en la empresa | Observación y entrada | Es cuantitativa, pero discretizando establecemos un rango DistanceToWork = {0 &le; x &le; 2 km} y {2.1 &le; y km}, lo denotaremos como 1: si recorre una distancia superior a 2 km, 0: si recorre una distancia menor o igual a 2 km |\n",
    "| Schedule | Describe el tipo de jornada laboral que tiene un empleado | Observación y entrada | Es cualitativa, se considera únicamente la jornada completa de 40 horas/semana y la jornada parcial de 20 h/semana, lo denotaremos como 1: si tiene jornada completa, 0: si tiene jornada parcial |\n",
    "| Work Overtime Last Month's | Describe si el empleado hizo horas extra en los últimos 3 meses (en el último trimestre) | Observación y entrada | Es cualitativa, lo denotaremos como 1: si realizó horas extra en el último trimestre, 0: si no realizó horas extra en el último trimestre |\n",
    "| Favorable Work Time | Describe si el empleado pudo completar al menos un 50% de las tareas que se le encomendaron durante la semana | Factores promotores | Es cualitativa, lo expresamos como 1: si pudo completar al menos un 50% de las tareas/semana, 0: si no pudo completarlas |\n",
    "| Satisfaction Work | Describe la satisfacción de un empleado en el trabajo, si esta agusto o no | Factores inhibidores | Es cualitativa, lo denotaremos como 1: si esta satisfecho, 0: si no esta satisfecho |\n",
    "| Age | Describe la edad que posee un empleado | Observación y entrada | Es cuantitativa, pero discretizando establecemos un rango Age = {18 &le; x &le; 33 años} y {31 &le; y &le; EDAD_JUBILACION-1 años} ,  lo denotaremos como 1: si el empleado tiene más de 33 años, 0: si tiene como máximo 33 años|\n",
    "| Gender | Describe género de un empleado, si es hombre o mujer | Observación y entrada | Es cualitativa, será 1: si es hombre, 0: si es mujer |\n",
    "| Has Family | Describe si el empleado tiene o no familia (esposa/o, hijos) | Observación y entrada | Es cualitativa, será 1: si tiene alguno de los descritos en familia, 0: si no tienen ninguno de los descritos en familia |\n",
    "| Leave Or Not | Describe si el empleado abandona la empresa o no | Objetivo | Es cualitativa, será 1: si abandona la empresa, 0: si no abandona la empresa |"
   ]
  },
  {
   "attachments": {},
   "cell_type": "markdown",
   "metadata": {},
   "source": [
    "**Variables** = [EducationLevel, Seniority, PerformanceEvaluation, PaymentTier, DistanceToWork, Schedule, WorkOverTimeLastMonth's, FavorableWorkTime, WorkSatisfaction, Age, Gender, HasFamily, LeaveOrNot]\n",
    "\n",
    "El **PaymentTier** dependerá de las cualidades y puesto de el empleado, esto viene influenciado por el nivel de eduación o formación a la que ha llegado el empleado, la antiguedad de el empleado en la empresa y la valoración de su trabajo en la empresa entre otros, es decir, nuestra variable PaymentTier dependerá de **EducationLevel**, **Seniority** y **PerformanceEvaluation** de todas las variables que tenemos en nuestra lista de variables.\n",
    "\n",
    "**FavorableWorkTime** dependerá de la cantidad de horas que trabaja normalmente y la cantidad de horas extra que realiza el empleado ya sea de forma voluntaria o requerida para completar sus tareas. Es decir, las únicas variables de la lista que se adaptan a dicha dependencia son **schedule** y **WorkOverTimeLastMonth's**.\n",
    "\n",
    "**WorkSatisfaction** es una variable que dependerá de el sueldo, la distancia que recorre para acudir al trabajo y el tiempo favorable de trabajo que realiza en la empresa, es decir, el empleado podría estar insatisfecho si por ejemplo tiene que recorrer largas distancias para acudir al trabajo puesto que impulsaría el estrés con la hora al empleado, si recibe un sueldo bajo puede que también se encuentre descontento, y si el tiempo favorable de trabajo sobrepasa con horas extra para terminar la tarea, seguramente le provoque agobio y estrés. Es por ello dependerá de las variables de la lista como **PaymentTier**, **DistanceToWork** y **FavorableWorkTime**.\n",
    "\n",
    "\n",
    "**LeaveOrNot** dependerá tanto de la satisfacción laboral del empleado como su edad, género y si tiene familia, ya que un empleado que no este satisfecho podría ser más propenso a abandonar la empresa, también entra en juego la edad ya que un empleado joven es propenso a abandonar ya sea porque encuentra ofertas mejores de trabajo o por querer experimentar y el empleado de edad adulta busca algo estable ya que normalmente si son despedidos con una cierta edad les es dificil encontrar nuevo empleo y probarse en el mercado laboral, en cuanto al género el índice actual de participación de las mujeres en la población activa en el mundo se aproxima al 49%. En cambio, el de los hombres es del 75% y posiblemente sean las mujeres las que abandonen con más facilidad un empleo, ahora, en cuanto a la familia, los empleados que poseen familia generalmente buscan la estabilidad. Entonces dependerá de **WorkSatisfaction**, **Age**, **Gender** y **HasFamily**.\n",
    "\n",
    "En cuanto a las variables EducationLevel, Seniority, PerformanceEvaluation, DistanceToWork, Schedule, WorkOverLastMonth's, Age, Gender y HasFamily son variables que no poseen variables de las que dependan, luego serán nodos raíz."
   ]
  },
  {
   "attachments": {},
   "cell_type": "markdown",
   "metadata": {},
   "source": [
    "<img src='RB.png'>"
   ]
  },
  {
   "attachments": {},
   "cell_type": "markdown",
   "metadata": {},
   "source": [
    "**LeaveOrNot**\n",
    "\n",
    "| LeaveOrNot | WorkSatisfaction | Age | Gender | HasFamily | Prob |\n",
    "| --- | --- | --- | --- | --- | --- |\n",
    "| +l | ¬w | ¬a | ¬g | ¬h | 0.75 |\n",
    "| ¬l | ¬w | ¬a | ¬g | ¬h | 0.25 |\n",
    "| +l | ¬w | ¬a | ¬g | +h | 0.35 |\n",
    "| ¬l | ¬w | ¬a | ¬g | +h | 0.65 |\n",
    "| +l | ¬w | ¬a | +g | ¬h | 0.85 |\n",
    "| ¬l | ¬w | ¬a | +g | ¬h | 0.15 |\n",
    "| +l | ¬w | ¬a | +g | +h | 0.65 |\n",
    "| ¬l | ¬w | ¬a | +g | +h | 0.35 |\n",
    "| +l | ¬w | +a | ¬g | ¬h | 0.55 |\n",
    "| ¬l | ¬w | +a | ¬g | ¬h | 0.45 |\n",
    "| +l | ¬w | +a | ¬g | +h | 0.30 |\n",
    "| ¬l | ¬w | +a | ¬g | +h | 0.70 |\n",
    "| +l | ¬w | +a | +g | ¬h | 0.25 |\n",
    "| ¬l | ¬w | +a | +g | ¬h | 0.85 |\n",
    "| +l | ¬w | +a | +g | +h | 0.15 |\n",
    "| ¬l | ¬w | +a | +g | +h | 0.85 |\n",
    "| +l | +w | ¬a | ¬g | ¬h | 0.30 |\n",
    "| ¬l | +w | ¬a | ¬g | ¬h | 0.70 |\n",
    "| +l | +w | ¬a | ¬g | +h | 0.35 |\n",
    "| ¬l | +w | ¬a | ¬g | +h | 0.65 |\n",
    "| +l | +w | ¬a | +g | ¬h | 0.15 |\n",
    "| ¬l | +w | ¬a | +g | ¬h | 0.85 |\n",
    "| +l | +w | ¬a | +g | +h | 0.05 |\n",
    "| ¬l | +w | ¬a | +g | +h | 0.95 |\n",
    "| +l | +w | +a | ¬g | ¬h | 0.20 |\n",
    "| ¬l | +w | +a | ¬g | ¬h | 0.80 |\n",
    "| +l | +w | +a | ¬g | +h | 0.10 |\n",
    "| ¬l | +w | +a | ¬g | +h | 0.90 |\n",
    "| +l | +w | +a | +g | ¬h | 0.05 |\n",
    "| ¬l | +w | +a | +g | ¬h | 0.95 |\n",
    "| +l | +w | +a | +g | +h | 0.00000001 |\n",
    "| ¬l | +w | +a | +g | +h | 0.99999999 |"
   ]
  },
  {
   "attachments": {},
   "cell_type": "markdown",
   "metadata": {},
   "source": [
    "**WorkSatisfaction**\n",
    "\n",
    "| WorkSatisfaction | PaymentTier | DistanceToWork | FavorableWorkTime | Prob |\n",
    "| --- | --- | --- | --- | --- |\n",
    "| +w | ¬p | ¬d | ¬f | 0.15 |\n",
    "| ¬w | ¬p | ¬d | ¬f | 0.85 |\n",
    "| +w | ¬p | ¬d | +f | 0.25 |\n",
    "| ¬w | ¬p | ¬d | +f | 0.75 |\n",
    "| +w | ¬p | +d | ¬f | 0.15 |\n",
    "| ¬w | ¬p | +d | ¬f | 0.85 |\n",
    "| +w | ¬p | +d | +f | 0.25 |\n",
    "| ¬w | ¬p | +d | +f | 0.75 |\n",
    "| +w | +p | ¬d | ¬f | 0.70 |\n",
    "| ¬w | +p | ¬d | ¬f | 0.30 |\n",
    "| +w | +p | ¬d | +f | 0.80 |\n",
    "| ¬w | +p | ¬d | +f | 0.20 |\n",
    "| +w | +p | +d | ¬f | 0.65 |\n",
    "| ¬w | +p | +d | ¬f | 0.35 |\n",
    "| +w | +p | +d | +f | 0.95 |\n",
    "| ¬w | +p | +d | +f | 0.05 |"
   ]
  },
  {
   "attachments": {},
   "cell_type": "markdown",
   "metadata": {},
   "source": [
    "**PaymentTier**\n",
    "\n",
    "| PaymentTier | EducationLevel | Seniority | PerformanceEvaluation | Prob |\n",
    "| --- | --- | --- | --- | --- |\n",
    "| +p | ¬e | ¬s | ¬pf | 0.15 |\n",
    "| ¬p | ¬e | ¬s | ¬pf | 0.85 |\n",
    "| +p | ¬e | ¬s | +pf | 0.25 |\n",
    "| ¬p | ¬e | ¬s | +pf | 0.75 |\n",
    "| +p | ¬e | +s | ¬pf | 0.30 |\n",
    "| ¬p | ¬e | +s | ¬pf | 0.70 |\n",
    "| +p | ¬e | +s | +pf | 0.40 |\n",
    "| ¬p | ¬e | +s | +pf | 0.60 |\n",
    "| +p | +e | ¬s | ¬pf | 0.35 |\n",
    "| ¬p | +e | ¬s | ¬pf | 0.65 |\n",
    "| +p | +e | ¬s | +pf | 0.75 |\n",
    "| ¬p | +e | ¬s | +pf | 0.25 |\n",
    "| +p | +e | +s | ¬pf | 0.80 |\n",
    "| ¬p | +e | +s | ¬pf | 0.20 |\n",
    "| +p | +e | +s | +pf | 0.999999 |\n",
    "| ¬p | +e | +s | +pf | 0.000001 |"
   ]
  },
  {
   "attachments": {},
   "cell_type": "markdown",
   "metadata": {},
   "source": [
    "**FavorableWorkTime**\n",
    "\n",
    "| FavorableWorkTime | Schedule | WorkOverTimeLastMonth's | prob |\n",
    "| --- | --- | --- | --- |\n",
    "| +f | ¬s | ¬wo | 0.85 |\n",
    "| ¬f | ¬s | ¬wo | 0.15 |\n",
    "| +f | ¬s | +wo | 0.05 |\n",
    "| ¬f | ¬s | +wo | 0.95 |\n",
    "| +f | +s | ¬wo | 0.95 |\n",
    "| ¬f | +s | ¬wo | 0.05 |\n",
    "| +f | +s | +wo | 0.50 |\n",
    "| ¬f | +s | +wo | 0.50 |"
   ]
  },
  {
   "attachments": {},
   "cell_type": "markdown",
   "metadata": {},
   "source": [
    "**EducationLevel**\n",
    "\n",
    "| EducationLevel | prob |\n",
    "| --- | --- |\n",
    "| +e | 0.3 |\n",
    "| ¬e | 0.7 |\n",
    "\n",
    "**Seniority**\n",
    "\n",
    "| Seniority | prob |\n",
    "| --- | --- |\n",
    "| +s | 0.25 |\n",
    "| ¬s | 0.75 |\n",
    "\n",
    "**PerformanceEvaluation**\n",
    "\n",
    "| PerformanceEvaluation | prob |\n",
    "| --- | --- |\n",
    "| +p | 0.95 |\n",
    "| ¬p | 0.05 |\n",
    "\n",
    "**DistanceToWork**\n",
    "\n",
    "| DistanceToWork | prob |\n",
    "| --- | --- |\n",
    "| +d | 0.40 |\n",
    "| ¬d | 0.60 |\n",
    "\n",
    "**Schedule**\n",
    "\n",
    "| Schedule | prob |\n",
    "| --- | --- |\n",
    "| +s | 0.80 |\n",
    "| ¬s | 0.20 |\n",
    "\n",
    "**WorkOverTimeLastMonth's**\n",
    "\n",
    "| WorkOverTimeLastMonth's | prob |\n",
    "| --- | --- |\n",
    "| +wo | 0.10 |\n",
    "| ¬wo | 0.90 |\n",
    "\n",
    "**Age**\n",
    "\n",
    "| Age | prob |\n",
    "| --- | --- |\n",
    "| +a | 0.45 |\n",
    "| ¬a | 0.55 |\n",
    "\n",
    "**Gender**\n",
    "\n",
    "| Gender | prob |\n",
    "| --- | --- |\n",
    "| +g | 0.50 |\n",
    "| ¬g | 0.50 |\n",
    "\n",
    "**HasFamily**\n",
    "\n",
    "| HasFamily | prob |\n",
    "| --- | --- |\n",
    "| +h | 0.35 |\n",
    "| ¬h | 0.65 |"
   ]
  },
  {
   "attachments": {},
   "cell_type": "markdown",
   "metadata": {},
   "source": [
    "Se crea la clase nodo donde todas nuestras variables tendrán dos únicos estados = {1, 0}."
   ]
  },
  {
   "cell_type": "code",
   "execution_count": 286,
   "metadata": {},
   "outputs": [],
   "source": [
    "import random\n",
    "import statistics\n",
    "import matplotlib.pyplot as plt\n",
    "from typing import List, Dict, Optional, Set, Deque, Union, Tuple\n",
    "from collections import deque\n",
    "\n",
    "\n",
    "def isEmptyDataStructure(dataStructure: Union[List, Deque, Set, Tuple]) -> bool:\n",
    "    return len(dataStructure) == 0\n",
    "\n",
    "def probabilityListCompressor(probabilities: List, states: List[int]) -> List[int]:\n",
    "    prob: List = probabilities\n",
    "    for i in states:\n",
    "        prob = prob[i]\n",
    "    return prob\n",
    "\n",
    "class nodo:\n",
    "    def __init__(self, parent: List[int], children: List[int], p: List) -> None:\n",
    "        self.parents: List[int] = parent\n",
    "        self.children: List[int] = children\n",
    "        self.p: List = p\n",
    "        self.num_states: int = 2\n",
    "        self.states: List[int] = [0, 1]\n",
    "        self.state: Optional[int] = None\n",
    "\n",
    "    def sample(self, stateParent: List[int]) -> None:\n",
    "        if isEmptyDataStructure(stateParent):\n",
    "            self.state = self.states[0] if self.p[0] >= random.random() else self.states[1]\n",
    "        else:\n",
    "            prob: List = probabilityListCompressor(self.p, stateParent)\n",
    "            self.state = self.states[0] if prob[0] >= random.random() else self.states[1]\n",
    "\n"
   ]
  },
  {
   "attachments": {},
   "cell_type": "markdown",
   "metadata": {},
   "source": [
    "Implementamos una función que resetee los estados de nuestra red bayesiana y una función que printee los estados de dichos nodos."
   ]
  },
  {
   "cell_type": "code",
   "execution_count": 287,
   "metadata": {},
   "outputs": [],
   "source": [
    "def reset_grafo(g: Dict[int, nodo]) -> Dict[int, nodo]:\n",
    "    for node in g.values():\n",
    "        node.state = None\n",
    "    return g\n",
    "\n",
    "def printGraph(g: Dict[int, nodo]) -> None:\n",
    "    totalstate: Dict[int, Optional[int]] = {}\n",
    "    for node in g.keys():\n",
    "        totalstate[node] = g[node].state\n",
    "    print(totalstate)"
   ]
  },
  {
   "attachments": {},
   "cell_type": "markdown",
   "metadata": {},
   "source": [
    "Ahora, la función initDeque inicializa una cola de prioridad donde se insertarán todos los nodos raíz para realizar una búsqueda en anchura."
   ]
  },
  {
   "cell_type": "code",
   "execution_count": 288,
   "metadata": {},
   "outputs": [],
   "source": [
    "def initDeque(graph: Dict[int, nodo], open: Deque) -> Deque:\n",
    "    for keyNode, valueNode in graph.items():\n",
    "        if isEmptyDataStructure(valueNode.parents): \n",
    "            open.append(valueNode)\n",
    "    return open"
   ]
  },
  {
   "attachments": {},
   "cell_type": "markdown",
   "metadata": {},
   "source": [
    "Realizamos la busqueda en anchura para samplear los nodos y que no tengan padres que tienen algún estado a None."
   ]
  },
  {
   "cell_type": "code",
   "execution_count": 289,
   "metadata": {},
   "outputs": [],
   "source": [
    "def breadthFirstSearch(graph: Dict[int, nodo]) -> Dict[int, nodo]:\n",
    "    open: Deque = deque()\n",
    "    closed: Set = set()\n",
    "    open = initDeque(graph, open) ##con esto insertamos primero a todos los padres de el grafo\n",
    "    while not isEmptyDataStructure(open):\n",
    "        currentNode: nodo = open.popleft()\n",
    "        currentNode.sample([]) if isEmptyDataStructure(currentNode.parents) else currentNode.sample([graph[padre].state for padre in currentNode.parents])\n",
    "        closed.add(currentNode)\n",
    "        for children in currentNode.children:\n",
    "            if graph[children] not in closed and graph[children] not in open: open.append(graph[children])\n",
    "    return graph"
   ]
  },
  {
   "attachments": {},
   "cell_type": "markdown",
   "metadata": {},
   "source": [
    "Realizamos un recorrido con el grafo ordenado mediante el algoritmo de TopologicalSort.\n",
    " se basa en encontrar los nodos que no tienen ninguna arista entrante y colocarlos en la lista ordenada. A continuación, se eliminan estas aristas y se repite el proceso para los nodos restantes. El algoritmo termina cuando se han colocado todos los nodos en la lista ordenada o se detecta que el grafo no es un DAG (porque tiene ciclos).\n",
    " Sabemos de ante mano que no tendremos un grafo con ciclos."
   ]
  },
  {
   "cell_type": "code",
   "execution_count": 290,
   "metadata": {},
   "outputs": [],
   "source": [
    "##ordenamos grafo por dependencias\n",
    "def topologicalSort(graph: Dict[int, nodo]) -> List[int]:\n",
    "    inDegree: Dict[int, int] = {}\n",
    "    for node in graph.keys():\n",
    "        inDegree[node] = 0\n",
    "    for node in graph.values():\n",
    "        for child in node.children:\n",
    "            inDegree[child] += 1\n",
    "    queue: deque = deque()\n",
    "    for node, degree in inDegree.items():\n",
    "        if degree == 0: queue.append(node)\n",
    "    topologicalListOrder: List[int] = []\n",
    "    while queue:\n",
    "        node = queue.popleft()\n",
    "        topologicalListOrder.append(node)\n",
    "        for child in graph[node].children:\n",
    "            inDegree[child] -= 1\n",
    "            if inDegree[child] == 0: queue.append(child)\n",
    "    return topologicalListOrder\n"
   ]
  },
  {
   "cell_type": "code",
   "execution_count": 291,
   "metadata": {},
   "outputs": [],
   "source": [
    "def topologicalSearch(graph: Dict[int, nodo]) -> Dict[int, nodo]:\n",
    "    closed: Set = set()\n",
    "    indexIterTopologicalOrden: List[int] = topologicalSort(graph)\n",
    "    for key in indexIterTopologicalOrden:\n",
    "        currentNode: nodo = graph[key]\n",
    "        if(currentNode not in closed):\n",
    "            currentNode.sample([]) if isEmptyDataStructure(currentNode.parents) else currentNode.sample([graph[padre].state for padre in currentNode.parents])\n",
    "            closed.add(currentNode)\n",
    "    return graph"
   ]
  },
  {
   "attachments": {},
   "cell_type": "markdown",
   "metadata": {},
   "source": [
    "Con la función sample graph obtenemos el grafo con los nuevos estados."
   ]
  },
  {
   "cell_type": "code",
   "execution_count": 292,
   "metadata": {},
   "outputs": [],
   "source": [
    "def sample_graph(graph: Dict[int, nodo]) -> Dict[int, int]:\n",
    "    graph = reset_grafo(graph)\n",
    "    # graph = breadthFirstSearch(graph)\n",
    "    graph = topologicalSearch(graph)\n",
    "    sample: Dict[int, int] = {}\n",
    "    for keyNode, valueNode in graph.items():\n",
    "        sample[keyNode] = valueNode.state\n",
    "    return sample\n"
   ]
  },
  {
   "attachments": {},
   "cell_type": "markdown",
   "metadata": {},
   "source": [
    "Implementamos dos funciones auxiliares que nos ayudarán en la función de inferencia para comprobar si se cumplen o no las queries y evidences y contabilizarlas."
   ]
  },
  {
   "cell_type": "code",
   "execution_count": 293,
   "metadata": {},
   "outputs": [],
   "source": [
    "def satisfies(sample: Dict[int, int], targetSatisf: Dict[int, int]) -> bool:\n",
    "    for keyNode, valueNode in targetSatisf.items():\n",
    "        if not(keyNode in sample and valueNode == sample[keyNode]):\n",
    "            return False\n",
    "    return True\n",
    "\n",
    "def updateAndCheck(sample: Dict[int, int], query: Dict[int, int], evidence: Dict[int, int], n_evidence: int, n_query_and_evidence: int) -> Tuple[int, int]:\n",
    "    if satisfies(sample, evidence):\n",
    "        n_evidence += 1\n",
    "        if satisfies(sample, query):\n",
    "            n_query_and_evidence += 1\n",
    "    return n_evidence, n_query_and_evidence\n"
   ]
  },
  {
   "attachments": {},
   "cell_type": "markdown",
   "metadata": {},
   "source": [
    "Y finalmente el algoritmo de inferencia donde contabilizaremos, en el grafo de estados que nos genera sample_graph, las veces que se cumplen nuestras queries y evidences."
   ]
  },
  {
   "cell_type": "code",
   "execution_count": 294,
   "metadata": {},
   "outputs": [],
   "source": [
    "def infer(query: Dict[int, int], evidence: Dict[int, int], graph: Dict[int, nodo], num: int = 20000) -> float:\n",
    "    n_evidence: int = 0\n",
    "    n_query_and_evidence: int = 0\n",
    "    for i in range(num):\n",
    "        n_evidence, n_query_and_evidence = updateAndCheck(sample_graph(graph), query, evidence, n_evidence, n_query_and_evidence)\n",
    "    return n_query_and_evidence/n_evidence if n_evidence > 0 else infer(query, evidence, graph, num)\n",
    "\n"
   ]
  },
  {
   "attachments": {},
   "cell_type": "markdown",
   "metadata": {},
   "source": [
    "Ahora implementamos una función auxiliar que nos devuelva 20 resultados que nos devuelve las queries y evidences al hacer infer 20 veces para poder analizar los resultados posteriormente."
   ]
  },
  {
   "cell_type": "code",
   "execution_count": 295,
   "metadata": {},
   "outputs": [],
   "source": [
    "def iterated_infer(query: Dict[int, int], evidence: Dict[int, int], graph: Dict[int, nodo], num: int = 20000, iter: int = 20) -> Tuple[List[float], float]:\n",
    "    results: List[float] = []\n",
    "    for i in range(iter):\n",
    "        results.append(infer(query, evidence, graph, num))\n",
    "    return results, statistics.mean(results)\n"
   ]
  },
  {
   "attachments": {},
   "cell_type": "markdown",
   "metadata": {},
   "source": [
    "Ahora instanciamos todos los nodos de nuestra red bayesiana."
   ]
  },
  {
   "cell_type": "code",
   "execution_count": 296,
   "metadata": {},
   "outputs": [],
   "source": [
    "## EducationLevel\n",
    "pE: List = [0.7, 0.3]\n",
    "EducationLevel: nodo = nodo([], [9], pE) \n",
    "## todavia falta asignar a los padres\n",
    "\n",
    "## Seniority\n",
    "pS: List = [0.75, 0.25]\n",
    "Seniority: nodo = nodo([], [9], pS)\n",
    "\n",
    "# PerformanceEvaluation\n",
    "pP: List = [0.05, 0.95]\n",
    "PerformanceEvaluation: nodo = nodo([], [9], pP)\n",
    "\n",
    "# Schedule\n",
    "pSch: List = [0.2, 0.8]\n",
    "Schedule: nodo = nodo([], [10], pSch)\n",
    "\n",
    "# WorkOverTimeLastMonth's\n",
    "pW: List = [0.9, 0.1]\n",
    "WorkOverTimeLastMonth_s: nodo = nodo([], [10], pW)\n",
    "\n",
    "# DistanceToWork\n",
    "pD: List = [0.6, 0.4]\n",
    "DistanceToWork: nodo = nodo([], [11], pD)\n",
    "\n",
    "# Age\n",
    "pA: List = [0.55, 0.45]\n",
    "Age: nodo = nodo([], [12], pA)\n",
    "\n",
    "# Gender\n",
    "pG: List = [0.5, 0.5]\n",
    "Gender: nodo = nodo([], [12], pG)\n",
    "\n",
    "# HasFamily\n",
    "pH: List = [0.65, 0.35]\n",
    "HasFamily: nodo = nodo([], [12], pH)\n",
    "\n",
    "#PaymentTier\n",
    "pPT = [[[[0.85, 0.15], [0.75, 0.25]], [[0.7, 0.3], [0.6, 0.4]]],\n",
    "       [[[0.65, 0.35], [0.25, 0.75]], [[0.2, 0.8], [0.000001, 0.999999]]]\n",
    "      ]\n",
    "PaymentTier: nodo = nodo([0, 1, 2], [11], pPT)\n",
    "\n",
    "#FavorableWorkTime\n",
    "pF = [[[0.15, 0.85], [0.95, 0.05]],\n",
    "      [[0.05, 0.95], [0.5, 0.5]]\n",
    "      ]\n",
    "FavorableWorkTime: nodo = nodo([3, 4], [11], pF)\n",
    "\n",
    "#WorkSatisfaction\n",
    "pWS = [[[[0.85, 0.15], [0.75, 0.25]], [[0.85, 0.15], [0.75, 0.25]]],\n",
    "       [[[0.3, 0.7], [0.2, 0.8]], [[0.35, 0.65], [0.05, 0.95]]]\n",
    "      ]\n",
    "WorkSatisfaction: nodo = nodo([9, 10, 5], [12], pWS)\n",
    "\n",
    "#LeaveOrNot\n",
    "pL = [\n",
    "      [[[[0.25, 0.75], [0.65, 0.35]], [[0.15, 0.85], [0.35, 0.65]]], [[[0.45, 0.55], [0.7, 0.3]], [[0.85, 0.15], [0.85, 0.15]]]],\n",
    "      [[[[0.7, 0.3], [0.65, 0.35]], [[0.85, 0.15], [0.95, 0.05]]], [[[0.8, 0.2], [0.9, 0.1]], [[0.95, 0.05], [0.99999999, 0.00000001]]]]\n",
    "     ]\n",
    "LeaveOrNot: nodo = nodo([11, 6, 7, 8], [], pL)"
   ]
  },
  {
   "attachments": {},
   "cell_type": "markdown",
   "metadata": {},
   "source": [
    "Creamos el diccionario o grafo donde el índice indique la prioridad es decir de el 0 al x serán nodos padres, donde se deperá insertar en la cola inicialmente en orden ascendente del 0 al x para respetar las dependencias."
   ]
  },
  {
   "cell_type": "code",
   "execution_count": 297,
   "metadata": {},
   "outputs": [],
   "source": [
    "################definimos el grafo aciclico\n",
    "Grafo: Dict[int, nodo] = {0: EducationLevel,\n",
    "                          1: Seniority,\n",
    "                          2: PerformanceEvaluation, \n",
    "                          3: Schedule,\n",
    "                          4: WorkOverTimeLastMonth_s,\n",
    "                          5: DistanceToWork,\n",
    "                          6: Age,\n",
    "                          7: Gender,\n",
    "                          8: HasFamily,\n",
    "                          9: PaymentTier,\n",
    "                          10: FavorableWorkTime,\n",
    "                          11: WorkSatisfaction, \n",
    "                          12: LeaveOrNot\n",
    "                          }"
   ]
  },
  {
   "attachments": {},
   "cell_type": "markdown",
   "metadata": {},
   "source": [
    "La probabilidad de que un empleado no se vaya de la empresa estando satisfecho con el trabajo, teniendo horas de trabajo favorables y aprovechadas y siendo mayor de 33 años."
   ]
  },
  {
   "cell_type": "code",
   "execution_count": 298,
   "metadata": {},
   "outputs": [
    {
     "name": "stdout",
     "output_type": "stream",
     "text": [
      "Resultado infer:  0.9089623975120158\n",
      "Resultado infer iterated:  0.9012723076594811\n"
     ]
    }
   ],
   "source": [
    "## p(¬l| +ws, +f, +a) \n",
    "query: Dict[int, int] = {12:0}\n",
    "evidence: Dict[int, int] = {11:1, 10:1, 6:1}\n",
    "print('Resultado infer: ', infer(query, evidence, Grafo))\n",
    "resultados1, prob = iterated_infer(query, evidence, Grafo)\n",
    "print('Resultado infer iterated: ', prob)"
   ]
  },
  {
   "attachments": {},
   "cell_type": "markdown",
   "metadata": {},
   "source": [
    "La probabilidad de que un empleado tenga jornada completa teniendo un nivel de educación superior."
   ]
  },
  {
   "cell_type": "code",
   "execution_count": 299,
   "metadata": {},
   "outputs": [
    {
     "name": "stdout",
     "output_type": "stream",
     "text": [
      "Resultado infer:  0.8095869961851053\n",
      "Resultado infer iterated:  0.8007633310103615\n"
     ]
    }
   ],
   "source": [
    "## p(+sch| +e)\n",
    "query: Dict[int, int] = {3:1}\n",
    "evidence: Dict[int, int] = {0:1}\n",
    "print('Resultado infer: ', infer(query, evidence, Grafo))\n",
    "resultados2, prob = iterated_infer(query, evidence, Grafo)\n",
    "print('Resultado infer iterated: ', prob)"
   ]
  },
  {
   "attachments": {},
   "cell_type": "markdown",
   "metadata": {},
   "source": [
    "Implementamos una función para poder visualizar los cambios en los resultados de una consulta."
   ]
  },
  {
   "cell_type": "code",
   "execution_count": 300,
   "metadata": {},
   "outputs": [],
   "source": [
    "def analizatorResults(results: List[float], titleOfPlot: str) -> None:\n",
    "    plt.plot(results)\n",
    "    plt.xlabel('Iteration')\n",
    "    plt.ylabel('Result')\n",
    "    plt.title(titleOfPlot)\n",
    "    plt.show()"
   ]
  },
  {
   "attachments": {
    "image.png": {
     "image/png": "[encoded data removed]"
    }
   },
   "cell_type": "markdown",
   "metadata": {},
   "source": [
    "Para la consulta $P(\\neg l \\mid +ws, +f, +a)$ conseguimos la siguiente gráfica.\n",
    "![image.png](attachment:image.png)\n",
    "Como podemos observar los resultados no siguen una línea de tendencia clara, la mayoría de veces son picos y picos dado que es una aproximación generada por inferencia con muestreo por rechazo, la desventaja de ello es que en algunas consultas hace falta gran cantidad de muestras, de lo contrario sería ineficaz o puede llevar a un resultado erróneo por falta de número de muestreos, por ejemplo, algo que nosotros pensemos que pueda ser específico para la red, si llega a ser tan específico puede encontrarse que el algoritmo rara vez encuentre ese caso y por lo tanto lo contabilice muy poco y puede ser que $P(x|y) = [(numerode(x,y) = 1)/(numerode(y)= 1)] = 1$ y que ello suponga falsas conclusiones."
   ]
  },
  {
   "cell_type": "code",
   "execution_count": 301,
   "metadata": {},
   "outputs": [],
   "source": [
    "#Ejecutar codigo para sacar la misma gráfica\n",
    "##analizatorResults(resultados1, r'$P(\\neg l \\mid +ws, +f, +a)$')"
   ]
  },
  {
   "attachments": {
    "image.png": {
     "image/png": "[encoded data removed]"
    }
   },
   "cell_type": "markdown",
   "metadata": {},
   "source": [
    "Para la consulta $P(+ sch \\mid +e)$\n",
    "![image.png](attachment:image.png)\n",
    "Para este caso sucede lo descrito en el caso anterior ya que han sido generados por el mismo algoritmo."
   ]
  },
  {
   "cell_type": "code",
   "execution_count": 302,
   "metadata": {},
   "outputs": [],
   "source": [
    "#Ejecuta codigo para sacar la misma gráfica.\n",
    "##analizatorResults(resultados2, r'$P(+ sch \\mid +e)$')"
   ]
  },
  {
   "attachments": {},
   "cell_type": "markdown",
   "metadata": {},
   "source": [
    "La ventaja que se puede llegar a sacar es que para una red de muchas variables y nodos, no te haría falta calcular probabilidades como en inferencia por enumeración ya que aproximamos el valor de ello, aunque la desventaja de esto puede ser la flexibilidad y la escalabilidad que son escasos ya que cuántos más nodos vayamos incorporando a nuestra red habrá que hacer más mantenimiento de dependencias y probabilidades, y algunos aspectos de funcionalidad de nuestro programa se podrían volver  específicos para un número limitado máximo de nodos. Además implica poder encontrar dependencias entre variables en un contexto de algún problema, y poder encontrar las variables adecuadas para representar el problema de la mejor manera posible. Además, las variables podrían tener estados ilimitados por lo que siempre hay que intentar discretizar lo máximo posible para que el desarrollo de la red sea lo más escalable posible."
   ]
  }
 ],
 "metadata": {
  "kernelspec": {
   "display_name": "Python 3",
   "language": "python",
   "name": "python3"
  },
  "language_info": {
   "codemirror_mode": {
    "name": "ipython",
    "version": 3
   },
   "file_extension": ".py",
   "mimetype": "text/x-python",
   "name": "python",
   "nbconvert_exporter": "python",
   "pygments_lexer": "ipython3",
   "version": "3.8.8"
  },
  "orig_nbformat": 4
 },
 "nbformat": 4,
 "nbformat_minor": 2
}
